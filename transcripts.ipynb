{
 "cells": [
  {
   "cell_type": "code",
   "execution_count": 6,
   "metadata": {},
   "outputs": [],
   "source": [
    "import requests\n",
    "import os\n",
    "import json\n",
    "from dotenv import load_dotenv\n",
    "from datetime import datetime\n",
    "import time\n",
    "import re\n",
    "\n",
    "load_dotenv()\n",
    "API_KEY = os.getenv(\"API_NINJA_API_KEY\")\n",
    "BASE_URL = \"https://api.api-ninjas.com/v1/earningstranscript\"\n",
    "OUTPUT_DIR = \"transcripts\""
   ]
  },
  {
   "cell_type": "code",
   "execution_count": 7,
   "metadata": {
    "tags": [
     "parameters"
    ]
   },
   "outputs": [],
   "source": [
    "ticker_list = [\"MSFT\"]\n",
    "current_year = datetime.now().year\n",
    "years = [current_year, current_year - 1]\n",
    "quarters = [1, 2, 3, 4]"
   ]
  },
  {
   "cell_type": "code",
   "execution_count": 8,
   "metadata": {},
   "outputs": [],
   "source": [
    "def fetch_transcript(ticker, year, quarter, api_key):\n",
    "    \"\"\"\n",
    "    Fetch the earnings transcript for a given ticker, year, and quarter.\n",
    "    \n",
    "    Parameters:\n",
    "        ticker (str): Company ticker symbol (e.g., \"MSFT\").\n",
    "        year (int): Earnings year (e.g., 2024).\n",
    "        quarter (int): Earnings quarter (1, 2, 3, or 4).\n",
    "        api_key (str): API key for authentication.\n",
    "    \n",
    "    Returns:\n",
    "        dict or None: Transcript data if available; otherwise, None.\n",
    "    \"\"\"\n",
    "    params = {\"ticker\": ticker, \"year\": year, \"quarter\": quarter}\n",
    "    headers = {\"X-Api-Key\": api_key}\n",
    "    \n",
    "    try:\n",
    "        response = requests.get(BASE_URL, params=params, headers=headers)\n",
    "        if response.status_code != 200:\n",
    "            print(f\"HTTP error {response.status_code} for {ticker} - {year} Q{quarter}\")\n",
    "            return None\n",
    "        \n",
    "        data = response.json()\n",
    "        \n",
    "        # Check if the API returned an error message (e.g., premium-only error)\n",
    "        if isinstance(data, dict) and \"error\" in data:\n",
    "            print(f\"API error for {ticker} - {year} Q{quarter}: {data['error']}\")\n",
    "            return None\n",
    "        \n",
    "        # If transcript is not available yet, the API returns an empty list\n",
    "        if data == []:\n",
    "            print(f\"No transcript available for {ticker} - {year} Q{quarter}.\")\n",
    "            return None\n",
    "        \n",
    "        return data\n",
    "    except Exception as e:\n",
    "        print(f\"Exception occurred for {ticker} - {year} Q{quarter}: {e}\")\n",
    "        return None"
   ]
  },
  {
   "cell_type": "code",
   "execution_count": 9,
   "metadata": {},
   "outputs": [],
   "source": [
    "def parse_transcript(transcript_text):\n",
    "    \"\"\"\n",
    "    Parse a transcript string into a list of speaker entries.\n",
    "    \n",
    "    Assumes the transcript follows the format where each speaker's turn is marked \n",
    "    by a speaker name followed immediately by a colon (\":\") at the beginning of a line\n",
    "    or the transcript, e.g.:\n",
    "    \n",
    "        Operator: Welcome to the call.\n",
    "        Brett Iversen: Thank you for joining.\n",
    "        Satya Nadella: Let's start with the numbers...\n",
    "    \n",
    "    Parameters:\n",
    "        transcript_text (str): The full transcript as one large string.\n",
    "    \n",
    "    Returns:\n",
    "        list of dict: A list where each element is a dictionary with two keys:\n",
    "            - 'speaker': The name of the speaker.\n",
    "            - 'text': The text spoken by that speaker.\n",
    "    \"\"\"\n",
    "    # Use a regex pattern that only matches speaker markers at the start of a line or string.\n",
    "    # This helps avoid matching colons inside the dialogue.\n",
    "    pattern = r'(?:^|\\n)(?P<speaker>[^:\\n]+):'\n",
    "    \n",
    "    # Find all speaker markers and their positions in the transcript text.\n",
    "    matches = list(re.finditer(pattern, transcript_text))\n",
    "    parsed_entries = []\n",
    "    \n",
    "    for i, match in enumerate(matches):\n",
    "        speaker = match.group('speaker').strip()\n",
    "        # The dialogue starts right after the colon.\n",
    "        start = match.end()\n",
    "        # If there's another speaker later, slice until that speaker's start; otherwise, go to end of text.\n",
    "        end = matches[i+1].start() if i < len(matches) - 1 else len(transcript_text)\n",
    "        dialogue = transcript_text[start:end].strip()\n",
    "        parsed_entries.append({\"speaker\": speaker, \"text\": dialogue})\n",
    "    \n",
    "    return parsed_entries"
   ]
  },
  {
   "cell_type": "code",
   "execution_count": 10,
   "metadata": {},
   "outputs": [
    {
     "name": "stdout",
     "output_type": "stream",
     "text": [
      "Transcript already exists for MSFT - 2025 Q1. Skipping API call.\n",
      "Transcript already exists for MSFT - 2025 Q2. Skipping API call.\n",
      "Processing MSFT - 2025 Q3...\n",
      "No transcript available for MSFT - 2025 Q3.\n",
      "Processing MSFT - 2025 Q4...\n",
      "No transcript available for MSFT - 2025 Q4.\n",
      "Transcript already exists for MSFT - 2024 Q1. Skipping API call.\n",
      "Transcript already exists for MSFT - 2024 Q2. Skipping API call.\n",
      "Transcript already exists for MSFT - 2024 Q3. Skipping API call.\n",
      "Transcript already exists for MSFT - 2024 Q4. Skipping API call.\n",
      "Transcript retrieval complete.\n"
     ]
    }
   ],
   "source": [
    "# Ensure the output directory exists.\n",
    "os.makedirs(OUTPUT_DIR, exist_ok=True)\n",
    "\n",
    "for ticker in ticker_list:\n",
    "    for year in years:\n",
    "        for quarter in quarters:\n",
    "            # Build the filename using TICKER_YEAR_QQUARTER_transcript.json format.\n",
    "            file_name = f\"{ticker}_{year}_Q{quarter}_transcript.json\"\n",
    "            file_path = os.path.join(OUTPUT_DIR, file_name)\n",
    "            \n",
    "            # Check if transcript already exists (caching).\n",
    "            if os.path.exists(file_path):\n",
    "                print(f\"Transcript already exists for {ticker} - {year} Q{quarter}. Skipping API call.\")\n",
    "                continue\n",
    "            \n",
    "            print(f\"Processing {ticker} - {year} Q{quarter}...\")\n",
    "            transcript_data = fetch_transcript(ticker, year, quarter, API_KEY)\n",
    "            \n",
    "            if transcript_data:\n",
    "                # Parse the transcript text if available.\n",
    "                transcript_text = transcript_data.get(\"transcript\", \"\")\n",
    "                transcript_data[\"raw_transcript\"] = transcript_text\n",
    "                transcript_data[\"transcript\"] = parse_transcript(transcript_text)\n",
    "                \n",
    "                # Save the transcript data to file in JSON format.\n",
    "                with open(file_path, \"w\") as f:\n",
    "                    json.dump(transcript_data, f, indent=4)\n",
    "                print(f\"Transcript saved: {file_path}\")\n",
    "            \n",
    "            time.sleep(0.15)\n",
    "\n",
    "print(\"Transcript retrieval complete.\")"
   ]
  }
 ],
 "metadata": {
  "kernelspec": {
   "display_name": "venv",
   "language": "python",
   "name": "python3"
  },
  "language_info": {
   "codemirror_mode": {
    "name": "ipython",
    "version": 3
   },
   "file_extension": ".py",
   "mimetype": "text/x-python",
   "name": "python",
   "nbconvert_exporter": "python",
   "pygments_lexer": "ipython3",
   "version": "3.12.3"
  }
 },
 "nbformat": 4,
 "nbformat_minor": 2
}
